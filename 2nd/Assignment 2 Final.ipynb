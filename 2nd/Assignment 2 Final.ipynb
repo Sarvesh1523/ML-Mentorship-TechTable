{
 "cells": [
  {
   "cell_type": "code",
   "execution_count": 1,
   "metadata": {},
   "outputs": [],
   "source": [
    "import pandas as pd\n",
    "import numpy as np\n",
    "import seaborn as sns\n",
    "import matplotlib.pyplot as plt\n",
    "from sklearn.preprocessing import LabelEncoder\n",
    "from sklearn import svm\n",
    "from sklearn import metrics\n",
    "from sklearn.model_selection import train_test_split\n",
    "from sklearn.linear_model import LogisticRegression\n",
    "from sklearn.neighbors import KNeighborsClassifier\n",
    "from sklearn import tree\n",
    "from sklearn.svm import SVC\n",
    "from sklearn.ensemble import RandomForestRegressor\n",
    "from sklearn.metrics import classification_report,confusion_matrix\n",
    "from sklearn.model_selection import cross_val_score"
   ]
  },
  {
   "cell_type": "code",
   "execution_count": 2,
   "metadata": {},
   "outputs": [],
   "source": [
    "df = pd.read_csv(\"train_AV3.csv\")"
   ]
  },
  {
   "cell_type": "code",
   "execution_count": 3,
   "metadata": {},
   "outputs": [
    {
     "data": {
      "text/html": [
       "<div>\n",
       "<style scoped>\n",
       "    .dataframe tbody tr th:only-of-type {\n",
       "        vertical-align: middle;\n",
       "    }\n",
       "\n",
       "    .dataframe tbody tr th {\n",
       "        vertical-align: top;\n",
       "    }\n",
       "\n",
       "    .dataframe thead th {\n",
       "        text-align: right;\n",
       "    }\n",
       "</style>\n",
       "<table border=\"1\" class=\"dataframe\">\n",
       "  <thead>\n",
       "    <tr style=\"text-align: right;\">\n",
       "      <th></th>\n",
       "      <th>Loan_ID</th>\n",
       "      <th>Gender</th>\n",
       "      <th>Married</th>\n",
       "      <th>Dependents</th>\n",
       "      <th>Education</th>\n",
       "      <th>Self_Employed</th>\n",
       "      <th>ApplicantIncome</th>\n",
       "      <th>CoapplicantIncome</th>\n",
       "      <th>LoanAmount</th>\n",
       "      <th>Loan_Amount_Term</th>\n",
       "      <th>Credit_History</th>\n",
       "      <th>Property_Area</th>\n",
       "      <th>Loan_Status</th>\n",
       "    </tr>\n",
       "  </thead>\n",
       "  <tbody>\n",
       "    <tr>\n",
       "      <th>0</th>\n",
       "      <td>LP001002</td>\n",
       "      <td>Male</td>\n",
       "      <td>No</td>\n",
       "      <td>0</td>\n",
       "      <td>Graduate</td>\n",
       "      <td>No</td>\n",
       "      <td>5849</td>\n",
       "      <td>0.0</td>\n",
       "      <td>NaN</td>\n",
       "      <td>360.0</td>\n",
       "      <td>1.0</td>\n",
       "      <td>Urban</td>\n",
       "      <td>Y</td>\n",
       "    </tr>\n",
       "    <tr>\n",
       "      <th>1</th>\n",
       "      <td>LP001003</td>\n",
       "      <td>Male</td>\n",
       "      <td>Yes</td>\n",
       "      <td>1</td>\n",
       "      <td>Graduate</td>\n",
       "      <td>No</td>\n",
       "      <td>4583</td>\n",
       "      <td>1508.0</td>\n",
       "      <td>128.0</td>\n",
       "      <td>360.0</td>\n",
       "      <td>1.0</td>\n",
       "      <td>Rural</td>\n",
       "      <td>N</td>\n",
       "    </tr>\n",
       "    <tr>\n",
       "      <th>2</th>\n",
       "      <td>LP001005</td>\n",
       "      <td>Male</td>\n",
       "      <td>Yes</td>\n",
       "      <td>0</td>\n",
       "      <td>Graduate</td>\n",
       "      <td>Yes</td>\n",
       "      <td>3000</td>\n",
       "      <td>0.0</td>\n",
       "      <td>66.0</td>\n",
       "      <td>360.0</td>\n",
       "      <td>1.0</td>\n",
       "      <td>Urban</td>\n",
       "      <td>Y</td>\n",
       "    </tr>\n",
       "    <tr>\n",
       "      <th>3</th>\n",
       "      <td>LP001006</td>\n",
       "      <td>Male</td>\n",
       "      <td>Yes</td>\n",
       "      <td>0</td>\n",
       "      <td>Not Graduate</td>\n",
       "      <td>No</td>\n",
       "      <td>2583</td>\n",
       "      <td>2358.0</td>\n",
       "      <td>120.0</td>\n",
       "      <td>360.0</td>\n",
       "      <td>1.0</td>\n",
       "      <td>Urban</td>\n",
       "      <td>Y</td>\n",
       "    </tr>\n",
       "    <tr>\n",
       "      <th>4</th>\n",
       "      <td>LP001008</td>\n",
       "      <td>Male</td>\n",
       "      <td>No</td>\n",
       "      <td>0</td>\n",
       "      <td>Graduate</td>\n",
       "      <td>No</td>\n",
       "      <td>6000</td>\n",
       "      <td>0.0</td>\n",
       "      <td>141.0</td>\n",
       "      <td>360.0</td>\n",
       "      <td>1.0</td>\n",
       "      <td>Urban</td>\n",
       "      <td>Y</td>\n",
       "    </tr>\n",
       "  </tbody>\n",
       "</table>\n",
       "</div>"
      ],
      "text/plain": [
       "    Loan_ID Gender Married Dependents     Education Self_Employed  \\\n",
       "0  LP001002   Male      No          0      Graduate            No   \n",
       "1  LP001003   Male     Yes          1      Graduate            No   \n",
       "2  LP001005   Male     Yes          0      Graduate           Yes   \n",
       "3  LP001006   Male     Yes          0  Not Graduate            No   \n",
       "4  LP001008   Male      No          0      Graduate            No   \n",
       "\n",
       "   ApplicantIncome  CoapplicantIncome  LoanAmount  Loan_Amount_Term  \\\n",
       "0             5849                0.0         NaN             360.0   \n",
       "1             4583             1508.0       128.0             360.0   \n",
       "2             3000                0.0        66.0             360.0   \n",
       "3             2583             2358.0       120.0             360.0   \n",
       "4             6000                0.0       141.0             360.0   \n",
       "\n",
       "   Credit_History Property_Area Loan_Status  \n",
       "0             1.0         Urban           Y  \n",
       "1             1.0         Rural           N  \n",
       "2             1.0         Urban           Y  \n",
       "3             1.0         Urban           Y  \n",
       "4             1.0         Urban           Y  "
      ]
     },
     "execution_count": 3,
     "metadata": {},
     "output_type": "execute_result"
    }
   ],
   "source": [
    "df.head()"
   ]
  },
  {
   "cell_type": "code",
   "execution_count": 4,
   "metadata": {},
   "outputs": [
    {
     "data": {
      "text/plain": [
       "Index(['Loan_ID', 'Gender', 'Married', 'Dependents', 'Education',\n",
       "       'Self_Employed', 'ApplicantIncome', 'CoapplicantIncome', 'LoanAmount',\n",
       "       'Loan_Amount_Term', 'Credit_History', 'Property_Area', 'Loan_Status'],\n",
       "      dtype='object')"
      ]
     },
     "execution_count": 4,
     "metadata": {},
     "output_type": "execute_result"
    }
   ],
   "source": [
    "df.columns"
   ]
  },
  {
   "cell_type": "code",
   "execution_count": 5,
   "metadata": {},
   "outputs": [
    {
     "data": {
      "text/html": [
       "<div>\n",
       "<style scoped>\n",
       "    .dataframe tbody tr th:only-of-type {\n",
       "        vertical-align: middle;\n",
       "    }\n",
       "\n",
       "    .dataframe tbody tr th {\n",
       "        vertical-align: top;\n",
       "    }\n",
       "\n",
       "    .dataframe thead th {\n",
       "        text-align: right;\n",
       "    }\n",
       "</style>\n",
       "<table border=\"1\" class=\"dataframe\">\n",
       "  <thead>\n",
       "    <tr style=\"text-align: right;\">\n",
       "      <th></th>\n",
       "      <th>ApplicantIncome</th>\n",
       "      <th>CoapplicantIncome</th>\n",
       "      <th>LoanAmount</th>\n",
       "      <th>Loan_Amount_Term</th>\n",
       "      <th>Credit_History</th>\n",
       "    </tr>\n",
       "  </thead>\n",
       "  <tbody>\n",
       "    <tr>\n",
       "      <th>count</th>\n",
       "      <td>614.000000</td>\n",
       "      <td>614.000000</td>\n",
       "      <td>592.000000</td>\n",
       "      <td>600.00000</td>\n",
       "      <td>564.000000</td>\n",
       "    </tr>\n",
       "    <tr>\n",
       "      <th>mean</th>\n",
       "      <td>5403.459283</td>\n",
       "      <td>1621.245798</td>\n",
       "      <td>146.412162</td>\n",
       "      <td>342.00000</td>\n",
       "      <td>0.842199</td>\n",
       "    </tr>\n",
       "    <tr>\n",
       "      <th>std</th>\n",
       "      <td>6109.041673</td>\n",
       "      <td>2926.248369</td>\n",
       "      <td>85.587325</td>\n",
       "      <td>65.12041</td>\n",
       "      <td>0.364878</td>\n",
       "    </tr>\n",
       "    <tr>\n",
       "      <th>min</th>\n",
       "      <td>150.000000</td>\n",
       "      <td>0.000000</td>\n",
       "      <td>9.000000</td>\n",
       "      <td>12.00000</td>\n",
       "      <td>0.000000</td>\n",
       "    </tr>\n",
       "    <tr>\n",
       "      <th>25%</th>\n",
       "      <td>2877.500000</td>\n",
       "      <td>0.000000</td>\n",
       "      <td>100.000000</td>\n",
       "      <td>360.00000</td>\n",
       "      <td>1.000000</td>\n",
       "    </tr>\n",
       "    <tr>\n",
       "      <th>50%</th>\n",
       "      <td>3812.500000</td>\n",
       "      <td>1188.500000</td>\n",
       "      <td>128.000000</td>\n",
       "      <td>360.00000</td>\n",
       "      <td>1.000000</td>\n",
       "    </tr>\n",
       "    <tr>\n",
       "      <th>75%</th>\n",
       "      <td>5795.000000</td>\n",
       "      <td>2297.250000</td>\n",
       "      <td>168.000000</td>\n",
       "      <td>360.00000</td>\n",
       "      <td>1.000000</td>\n",
       "    </tr>\n",
       "    <tr>\n",
       "      <th>max</th>\n",
       "      <td>81000.000000</td>\n",
       "      <td>41667.000000</td>\n",
       "      <td>700.000000</td>\n",
       "      <td>480.00000</td>\n",
       "      <td>1.000000</td>\n",
       "    </tr>\n",
       "  </tbody>\n",
       "</table>\n",
       "</div>"
      ],
      "text/plain": [
       "       ApplicantIncome  CoapplicantIncome  LoanAmount  Loan_Amount_Term  \\\n",
       "count       614.000000         614.000000  592.000000         600.00000   \n",
       "mean       5403.459283        1621.245798  146.412162         342.00000   \n",
       "std        6109.041673        2926.248369   85.587325          65.12041   \n",
       "min         150.000000           0.000000    9.000000          12.00000   \n",
       "25%        2877.500000           0.000000  100.000000         360.00000   \n",
       "50%        3812.500000        1188.500000  128.000000         360.00000   \n",
       "75%        5795.000000        2297.250000  168.000000         360.00000   \n",
       "max       81000.000000       41667.000000  700.000000         480.00000   \n",
       "\n",
       "       Credit_History  \n",
       "count      564.000000  \n",
       "mean         0.842199  \n",
       "std          0.364878  \n",
       "min          0.000000  \n",
       "25%          1.000000  \n",
       "50%          1.000000  \n",
       "75%          1.000000  \n",
       "max          1.000000  "
      ]
     },
     "execution_count": 5,
     "metadata": {},
     "output_type": "execute_result"
    }
   ],
   "source": [
    "df.describe()"
   ]
  },
  {
   "cell_type": "code",
   "execution_count": 6,
   "metadata": {},
   "outputs": [
    {
     "data": {
      "text/plain": [
       "Loan_ID              614\n",
       "Gender               601\n",
       "Married              611\n",
       "Dependents           599\n",
       "Education            614\n",
       "Self_Employed        582\n",
       "ApplicantIncome      614\n",
       "CoapplicantIncome    614\n",
       "LoanAmount           592\n",
       "Loan_Amount_Term     600\n",
       "Credit_History       564\n",
       "Property_Area        614\n",
       "Loan_Status          614\n",
       "dtype: int64"
      ]
     },
     "execution_count": 6,
     "metadata": {},
     "output_type": "execute_result"
    }
   ],
   "source": [
    "df.count()"
   ]
  },
  {
   "cell_type": "code",
   "execution_count": 7,
   "metadata": {},
   "outputs": [
    {
     "name": "stdout",
     "output_type": "stream",
     "text": [
      "<class 'pandas.core.frame.DataFrame'>\n",
      "RangeIndex: 614 entries, 0 to 613\n",
      "Data columns (total 13 columns):\n",
      " #   Column             Non-Null Count  Dtype  \n",
      "---  ------             --------------  -----  \n",
      " 0   Loan_ID            614 non-null    object \n",
      " 1   Gender             601 non-null    object \n",
      " 2   Married            611 non-null    object \n",
      " 3   Dependents         599 non-null    object \n",
      " 4   Education          614 non-null    object \n",
      " 5   Self_Employed      582 non-null    object \n",
      " 6   ApplicantIncome    614 non-null    int64  \n",
      " 7   CoapplicantIncome  614 non-null    float64\n",
      " 8   LoanAmount         592 non-null    float64\n",
      " 9   Loan_Amount_Term   600 non-null    float64\n",
      " 10  Credit_History     564 non-null    float64\n",
      " 11  Property_Area      614 non-null    object \n",
      " 12  Loan_Status        614 non-null    object \n",
      "dtypes: float64(4), int64(1), object(8)\n",
      "memory usage: 62.5+ KB\n"
     ]
    }
   ],
   "source": [
    "df.info()"
   ]
  },
  {
   "cell_type": "code",
   "execution_count": 8,
   "metadata": {},
   "outputs": [
    {
     "data": {
      "text/plain": [
       "(614, 13)"
      ]
     },
     "execution_count": 8,
     "metadata": {},
     "output_type": "execute_result"
    }
   ],
   "source": [
    "df.shape"
   ]
  },
  {
   "cell_type": "code",
   "execution_count": 9,
   "metadata": {},
   "outputs": [
    {
     "data": {
      "text/plain": [
       "Gender              13\n",
       "Married              3\n",
       "Dependents          15\n",
       "Self_Employed       32\n",
       "LoanAmount          22\n",
       "Loan_Amount_Term    14\n",
       "Credit_History      50\n",
       "dtype: int64"
      ]
     },
     "execution_count": 9,
     "metadata": {},
     "output_type": "execute_result"
    }
   ],
   "source": [
    "null_columns=df.columns[df.isnull().any()]\n",
    "df[null_columns].isnull().sum()"
   ]
  },
  {
   "cell_type": "code",
   "execution_count": 10,
   "metadata": {},
   "outputs": [
    {
     "data": {
      "text/plain": [
       "Male      489\n",
       "Female    112\n",
       "Name: Gender, dtype: int64"
      ]
     },
     "execution_count": 10,
     "metadata": {},
     "output_type": "execute_result"
    }
   ],
   "source": [
    "gender = df[pd.notnull(df[\"Gender\"])] \n",
    "gender[\"Gender\"].value_counts()"
   ]
  },
  {
   "cell_type": "code",
   "execution_count": 11,
   "metadata": {},
   "outputs": [],
   "source": [
    "def preprocessing_train(df):\n",
    "    df[\"Gender\"].fillna(\"Male\", inplace = True)\n",
    "    df[\"Married\"].fillna( method ='ffill', inplace = True)\n",
    "    df[\"Dependents\"].fillna( method ='ffill', inplace = True)\n",
    "    df[\"Self_Employed\"].fillna( method ='ffill', inplace = True)\n",
    "    df[\"LoanAmount\"].fillna(df[\"LoanAmount\"].mean() , inplace = True)\n",
    "    df[\"Loan_Amount_Term\"].fillna(df[\"Loan_Amount_Term\"].mean() , inplace = True)\n",
    "    df[\"Credit_History\"].fillna( df[\"Credit_History\"].mean(), inplace = True)\n",
    "    \n",
    "    le_gender = LabelEncoder()\n",
    "    le_married = LabelEncoder()\n",
    "    le_education = LabelEncoder()\n",
    "    le_self_employed = LabelEncoder()\n",
    "    le_property_area = LabelEncoder()\n",
    "    le_loan_status = LabelEncoder()\n",
    "    le_dependents = LabelEncoder()\n",
    "    \n",
    "    df['Gender_n'] = le_gender.fit_transform(df['Gender'])\n",
    "    df['Married_n'] = le_married.fit_transform(df['Married'])\n",
    "    df['Dependents_n'] = le_loan_status.fit_transform(df['Dependents'])\n",
    "    df['Education_n'] = le_education.fit_transform(df['Education'])\n",
    "    df['Self_Employed_n'] = le_self_employed.fit_transform(df['Self_Employed'])\n",
    "    df['Property_Area_n'] = le_property_area.fit_transform(df['Property_Area'])\n",
    "    df['Loan_Status_n'] = le_loan_status.fit_transform(df['Loan_Status'])\n",
    "    \n",
    "    df = df.drop(columns=['Loan_ID', 'Gender', 'Married', 'Education', 'Self_Employed', 'Property_Area', 'Loan_Status','Dependents'])\n",
    "    X = df.drop(columns=[\"Loan_Status_n\"])\n",
    "    y = df[\"Loan_Status_n\"]\n",
    "    return X, y"
   ]
  },
  {
   "cell_type": "code",
   "execution_count": 12,
   "metadata": {},
   "outputs": [],
   "source": [
    "# x = df[df[\"Gender\"] == \"Male\"][\"LoanAmount\"].fillna(value=150.861) "
   ]
  },
  {
   "cell_type": "code",
   "execution_count": 13,
   "metadata": {},
   "outputs": [],
   "source": [
    "# x.head()"
   ]
  },
  {
   "cell_type": "code",
   "execution_count": 14,
   "metadata": {},
   "outputs": [],
   "source": [
    "# df[df[\"Gender\"] == \"Male\"][\"LoanAmount\"].shape"
   ]
  },
  {
   "cell_type": "code",
   "execution_count": 15,
   "metadata": {},
   "outputs": [],
   "source": [
    "# x.shape"
   ]
  },
  {
   "cell_type": "code",
   "execution_count": 16,
   "metadata": {},
   "outputs": [],
   "source": [
    "# for i in range(len(df[df[\"Gender\"] == \"Male\"])):\n",
    "#     df[df[\"Gender\"] == \"Male\"][\"Loan\"] = x\n"
   ]
  },
  {
   "cell_type": "code",
   "execution_count": 17,
   "metadata": {},
   "outputs": [],
   "source": [
    "# df[df[\"Gender\"] == \"Male\"][\"LoanAmount\"].fillna(value=150.861, inplace=True)"
   ]
  },
  {
   "cell_type": "code",
   "execution_count": 18,
   "metadata": {},
   "outputs": [],
   "source": [
    "# # df[df[\"Gender\"] == \"Male\"][\"LoanAmount\"] == pd.NA\n",
    "# pd.isna(df[df[\"Gender\"] == \"Male\"][\"LoanAmount\"])"
   ]
  },
  {
   "cell_type": "markdown",
   "metadata": {},
   "source": [
    "### SVM"
   ]
  },
  {
   "cell_type": "code",
   "execution_count": 19,
   "metadata": {},
   "outputs": [],
   "source": [
    "def svm(X_train, y_train):\n",
    "    model = SVC(kernel='linear') # Linear Kernel\n",
    "    model.fit(X_train, y_train)\n",
    "    return model"
   ]
  },
  {
   "cell_type": "markdown",
   "metadata": {},
   "source": [
    "### Logistic Regression"
   ]
  },
  {
   "cell_type": "code",
   "execution_count": 20,
   "metadata": {},
   "outputs": [],
   "source": [
    "def lr(X_train, y_train):\n",
    "    model = LogisticRegression()\n",
    "    model.fit(X_train, y_train)\n",
    "    return model"
   ]
  },
  {
   "cell_type": "markdown",
   "metadata": {},
   "source": [
    "### K Nearest Neighbour\n"
   ]
  },
  {
   "cell_type": "code",
   "execution_count": 21,
   "metadata": {},
   "outputs": [],
   "source": [
    "def knn(X_train, y_train, n_neighbors):\n",
    "    model = KNeighborsClassifier(n_neighbors=n_neighbors)\n",
    "    model.fit(X_train,y_train)\n",
    "    return model"
   ]
  },
  {
   "cell_type": "markdown",
   "metadata": {},
   "source": [
    "### Decision Tree"
   ]
  },
  {
   "cell_type": "code",
   "execution_count": 22,
   "metadata": {},
   "outputs": [],
   "source": [
    "def decision_tree(X_train, y_train):\n",
    "    model = tree.DecisionTreeClassifier()\n",
    "    model.fit(X_train,y_train)\n",
    "    return model"
   ]
  },
  {
   "cell_type": "markdown",
   "metadata": {},
   "source": [
    "### Random Forest"
   ]
  },
  {
   "cell_type": "code",
   "execution_count": 23,
   "metadata": {},
   "outputs": [],
   "source": [
    "def random_forest(X_train, y_train, n_estimators):\n",
    "    model = RandomForestRegressor(n_estimators=n_estimators)\n",
    "    model.fit(X_train, y_train)\n",
    "    return model"
   ]
  },
  {
   "cell_type": "markdown",
   "metadata": {},
   "source": [
    "### Predict Function"
   ]
  },
  {
   "cell_type": "code",
   "execution_count": 24,
   "metadata": {},
   "outputs": [],
   "source": [
    "def pred(model, X_test):\n",
    "    y_pred = model.predict(X_test)\n",
    "    return y_pred"
   ]
  },
  {
   "cell_type": "markdown",
   "metadata": {},
   "source": [
    "### Accuracy Function"
   ]
  },
  {
   "cell_type": "code",
   "execution_count": 34,
   "metadata": {},
   "outputs": [],
   "source": [
    "def accuracy(y_test, y_pred):\n",
    "    print(\"Accuracy : \")\n",
    "    print(metrics.accuracy_score(y_test, y_pred.round()))\n",
    "    print()\n",
    "    print(\"###############################################\")\n",
    "    print()\n",
    "    print(\"Confusion Matrix\")\n",
    "    print(confusion_matrix(y_test,y_pred.round()))\n",
    "    print()\n",
    "    print(\"###############################################\")\n",
    "    print()\n",
    "    print(\"Classification Report\")\n",
    "    print(classification_report(y_test,y_pred.round()))\n",
    "    print()\n",
    "    print()\n",
    "    print()\n",
    "    print()"
   ]
  },
  {
   "cell_type": "markdown",
   "metadata": {},
   "source": [
    "### Error Function"
   ]
  },
  {
   "cell_type": "code",
   "execution_count": 26,
   "metadata": {},
   "outputs": [],
   "source": [
    "def error(y_test, y_pred):\n",
    "    print('Mean Absolute Error:', metrics.mean_absolute_error(y_test, y_pred))\n",
    "    print('Mean Squared Ewrror:', metrics.mean_squared_error(y_test, y_pred))\n",
    "    print('Root Mean Squared Error:', np.sqrt(metrics.mean_squared_error(y_test, y_pred)))"
   ]
  },
  {
   "cell_type": "markdown",
   "metadata": {},
   "source": [
    "### Seaching optimal k"
   ]
  },
  {
   "cell_type": "code",
   "execution_count": 27,
   "metadata": {},
   "outputs": [],
   "source": [
    "def plot_for_k(X, y):\n",
    "    \n",
    "    accuracy_rate = []\n",
    "    for i in range(1,40):\n",
    "        knn = KNeighborsClassifier(n_neighbors=i)\n",
    "        score=cross_val_score(knn,X,y,cv=10)\n",
    "        accuracy_rate.append(score.mean())\n",
    "        \n",
    "    error_rate = []\n",
    "    for i in range(1,40):\n",
    "        knn = KNeighborsClassifier(n_neighbors=i)\n",
    "        knn.fit(X_train,y_train)\n",
    "        pred_i = knn.predict(X_test)\n",
    "        error_rate.append(np.mean(pred_i != y_test))\n",
    "        \n",
    "    plt.figure(figsize=(10,6))\n",
    "    plt.plot(range(1,40),accuracy_rate,color='blue', linestyle='dashed', marker='o',\n",
    "             markerfacecolor='red', markersize=10)\n",
    "    plt.title('Error Rate vs. K Value')\n",
    "    plt.xlabel('K')\n",
    "    plt.ylabel('Error Rate')"
   ]
  },
  {
   "cell_type": "markdown",
   "metadata": {},
   "source": [
    "### Testing k "
   ]
  },
  {
   "cell_type": "code",
   "execution_count": 28,
   "metadata": {},
   "outputs": [],
   "source": [
    "def check_k(X_train, y_train, X_test, y_test, k):\n",
    "    # NOW WITH K=k\n",
    "    knn = KNeighborsClassifier(n_neighbors=k)\n",
    "    knn.fit(X_train,y_train)\n",
    "    pred = knn.predict(X_test)\n",
    "\n",
    "    print('WITH K=2')\n",
    "    print('\\n')\n",
    "    print(confusion_matrix(y_test,pred))\n",
    "    print('\\n')\n",
    "    print(classification_report(y_test,pred))"
   ]
  },
  {
   "cell_type": "markdown",
   "metadata": {},
   "source": [
    "#### Preprocessing Fn Call"
   ]
  },
  {
   "cell_type": "code",
   "execution_count": 29,
   "metadata": {},
   "outputs": [],
   "source": [
    "X, y = preprocessing_train(df)\n",
    "X_train, X_test, y_train, y_test = train_test_split(X, y, test_size=0.2) # 70% training and 20% test"
   ]
  },
  {
   "cell_type": "markdown",
   "metadata": {},
   "source": [
    "#### Ploting graph for k range from 1 to 40"
   ]
  },
  {
   "cell_type": "code",
   "execution_count": 30,
   "metadata": {},
   "outputs": [
    {
     "data": {
      "image/png": "[encoded data removed]",
      "text/plain": [
       "<Figure size 720x432 with 1 Axes>"
      ]
     },
     "metadata": {
      "needs_background": "light"
     },
     "output_type": "display_data"
    }
   ],
   "source": [
    "plot_for_k(X, y)"
   ]
  },
  {
   "cell_type": "markdown",
   "metadata": {},
   "source": [
    "#### Creating and Fitting Model"
   ]
  },
  {
   "cell_type": "code",
   "execution_count": 31,
   "metadata": {},
   "outputs": [
    {
     "name": "stderr",
     "output_type": "stream",
     "text": [
      "/home/sarvesh/anaconda3/lib/python3.7/site-packages/sklearn/linear_model/_logistic.py:940: ConvergenceWarning: lbfgs failed to converge (status=1):\n",
      "STOP: TOTAL NO. of ITERATIONS REACHED LIMIT.\n",
      "\n",
      "Increase the number of iterations (max_iter) or scale the data as shown in:\n",
      "    https://scikit-learn.org/stable/modules/preprocessing.html\n",
      "Please also refer to the documentation for alternative solver options:\n",
      "    https://scikit-learn.org/stable/modules/linear_model.html#logistic-regression\n",
      "  extra_warning_msg=_LOGISTIC_SOLVER_CONVERGENCE_MSG)\n"
     ]
    }
   ],
   "source": [
    "svm_model = svm(X_train, y_train)\n",
    "lr_model = lr(X_train, y_train)\n",
    "knn_model = knn(X_train, y_train, 22)\n",
    "decision_tree_model = decision_tree(X_train, y_train)\n",
    "random_forest_model = random_forest(X_train, y_train, 20)"
   ]
  },
  {
   "cell_type": "markdown",
   "metadata": {},
   "source": [
    "#### Predicting for X_test"
   ]
  },
  {
   "cell_type": "code",
   "execution_count": 32,
   "metadata": {},
   "outputs": [],
   "source": [
    "y_hat_svm = pred(svm_model, X_test)\n",
    "y_hat_lr = pred(lr_model, X_test)\n",
    "y_hat_knn = pred(knn_model, X_test)\n",
    "y_hat_dt = pred(decision_tree_model, X_test)\n",
    "y_hat_rf = pred(random_forest_model, X_test)"
   ]
  },
  {
   "cell_type": "markdown",
   "metadata": {},
   "source": [
    "#### Checking Accuracy for models"
   ]
  },
  {
   "cell_type": "code",
   "execution_count": 35,
   "metadata": {
    "scrolled": true
   },
   "outputs": [
    {
     "name": "stdout",
     "output_type": "stream",
     "text": [
      "Support Vector Machine : \n",
      "\n",
      "Accuracy : \n",
      "0.8130081300813008\n",
      "\n",
      "###############################################\n",
      "\n",
      "Confusion Matrix\n",
      "[[19 21]\n",
      " [ 2 81]]\n",
      "\n",
      "###############################################\n",
      "\n",
      "Classification Report\n",
      "              precision    recall  f1-score   support\n",
      "\n",
      "           0       0.90      0.47      0.62        40\n",
      "           1       0.79      0.98      0.88        83\n",
      "\n",
      "    accuracy                           0.81       123\n",
      "   macro avg       0.85      0.73      0.75       123\n",
      "weighted avg       0.83      0.81      0.79       123\n",
      "\n",
      "\n",
      "\n",
      "\n",
      "\n",
      "Logistic Regression : \n",
      "\n",
      "Accuracy : \n",
      "0.8130081300813008\n",
      "\n",
      "###############################################\n",
      "\n",
      "Confusion Matrix\n",
      "[[19 21]\n",
      " [ 2 81]]\n",
      "\n",
      "###############################################\n",
      "\n",
      "Classification Report\n",
      "              precision    recall  f1-score   support\n",
      "\n",
      "           0       0.90      0.47      0.62        40\n",
      "           1       0.79      0.98      0.88        83\n",
      "\n",
      "    accuracy                           0.81       123\n",
      "   macro avg       0.85      0.73      0.75       123\n",
      "weighted avg       0.83      0.81      0.79       123\n",
      "\n",
      "\n",
      "\n",
      "\n",
      "\n",
      "K Nearest Neighbors : \n",
      "\n",
      "Accuracy : \n",
      "0.6910569105691057\n",
      "\n",
      "###############################################\n",
      "\n",
      "Confusion Matrix\n",
      "[[ 4 36]\n",
      " [ 2 81]]\n",
      "\n",
      "###############################################\n",
      "\n",
      "Classification Report\n",
      "              precision    recall  f1-score   support\n",
      "\n",
      "           0       0.67      0.10      0.17        40\n",
      "           1       0.69      0.98      0.81        83\n",
      "\n",
      "    accuracy                           0.69       123\n",
      "   macro avg       0.68      0.54      0.49       123\n",
      "weighted avg       0.68      0.69      0.60       123\n",
      "\n",
      "\n",
      "\n",
      "\n",
      "\n",
      "Decision Tree : \n",
      "\n",
      "Accuracy : \n",
      "0.7235772357723578\n",
      "\n",
      "###############################################\n",
      "\n",
      "Confusion Matrix\n",
      "[[24 16]\n",
      " [18 65]]\n",
      "\n",
      "###############################################\n",
      "\n",
      "Classification Report\n",
      "              precision    recall  f1-score   support\n",
      "\n",
      "           0       0.57      0.60      0.59        40\n",
      "           1       0.80      0.78      0.79        83\n",
      "\n",
      "    accuracy                           0.72       123\n",
      "   macro avg       0.69      0.69      0.69       123\n",
      "weighted avg       0.73      0.72      0.73       123\n",
      "\n",
      "\n",
      "\n",
      "\n",
      "\n",
      "Random Forest : \n",
      "\n",
      "Accuracy : \n",
      "0.7804878048780488\n",
      "\n",
      "###############################################\n",
      "\n",
      "Confusion Matrix\n",
      "[[20 20]\n",
      " [ 7 76]]\n",
      "\n",
      "###############################################\n",
      "\n",
      "Classification Report\n",
      "              precision    recall  f1-score   support\n",
      "\n",
      "           0       0.74      0.50      0.60        40\n",
      "           1       0.79      0.92      0.85        83\n",
      "\n",
      "    accuracy                           0.78       123\n",
      "   macro avg       0.77      0.71      0.72       123\n",
      "weighted avg       0.78      0.78      0.77       123\n",
      "\n",
      "\n",
      "\n",
      "\n",
      "\n"
     ]
    }
   ],
   "source": [
    "#SVM\n",
    "print(\"Support Vector Machine : \")\n",
    "print()\n",
    "accuracy(y_test, y_hat_svm)\n",
    "\n",
    "#Logistic Regression\n",
    "print(\"Logistic Regression : \")\n",
    "print()\n",
    "accuracy(y_test, y_hat_lr)\n",
    "\n",
    "#K Nearest Neighbors\n",
    "print(\"K Nearest Neighbors : \")\n",
    "print()\n",
    "accuracy(y_test, y_hat_knn)\n",
    "\n",
    "#Decision Tree\n",
    "print(\"Decision Tree : \")\n",
    "print()\n",
    "accuracy(y_test, y_hat_dt)\n",
    "\n",
    "#Random Forest\n",
    "print(\"Random Forest : \")\n",
    "print()\n",
    "accuracy(y_test, y_hat_rf)"
   ]
  },
  {
   "cell_type": "markdown",
   "metadata": {},
   "source": [
    "### Checking Error"
   ]
  },
  {
   "cell_type": "code",
   "execution_count": 37,
   "metadata": {},
   "outputs": [
    {
     "name": "stdout",
     "output_type": "stream",
     "text": [
      "Support Vector Machine : \n",
      "\n",
      "Mean Absolute Error: 0.18699186991869918\n",
      "Mean Squared Ewrror: 0.18699186991869918\n",
      "Root Mean Squared Error: 0.4324255657551935\n",
      "Logistic Regression : \n",
      "\n",
      "Mean Absolute Error: 0.18699186991869918\n",
      "Mean Squared Ewrror: 0.18699186991869918\n",
      "Root Mean Squared Error: 0.4324255657551935\n",
      "K Nearest Neighbors : \n",
      "\n",
      "Mean Absolute Error: 0.3089430894308943\n",
      "Mean Squared Ewrror: 0.3089430894308943\n",
      "Root Mean Squared Error: 0.5558264921995841\n",
      "Decision Tree : \n",
      "\n",
      "Mean Absolute Error: 0.2764227642276423\n",
      "Mean Squared Ewrror: 0.2764227642276423\n",
      "Root Mean Squared Error: 0.5257592264788534\n",
      "Random Forest : \n",
      "\n",
      "Mean Absolute Error: 0.26666666666666666\n",
      "Mean Squared Ewrror: 0.1471951219512195\n",
      "Root Mean Squared Error: 0.3836601646655794\n"
     ]
    }
   ],
   "source": [
    "#SVM\n",
    "print(\"Support Vector Machine : \")\n",
    "print()\n",
    "error(y_test, y_hat_svm)\n",
    "\n",
    "#Logistic Regression\n",
    "print(\"Logistic Regression : \")\n",
    "print()\n",
    "error(y_test, y_hat_lr)\n",
    "\n",
    "#K Nearest Neighbors\n",
    "print(\"K Nearest Neighbors : \")\n",
    "print()\n",
    "error(y_test, y_hat_knn)\n",
    "\n",
    "#Decision Tree\n",
    "print(\"Decision Tree : \")\n",
    "print()\n",
    "error(y_test, y_hat_dt)\n",
    "\n",
    "#Random Forest\n",
    "print(\"Random Forest : \")\n",
    "print()\n",
    "error(y_test, y_hat_rf)\n"
   ]
  },
  {
   "cell_type": "markdown",
   "metadata": {},
   "source": [
    "## So I got k =22 is most optimal"
   ]
  },
  {
   "cell_type": "markdown",
   "metadata": {},
   "source": []
  },
  {
   "cell_type": "markdown",
   "metadata": {},
   "source": []
  },
  {
   "cell_type": "markdown",
   "metadata": {},
   "source": [
    "# Test Data"
   ]
  },
  {
   "cell_type": "code",
   "execution_count": 38,
   "metadata": {},
   "outputs": [],
   "source": [
    "test_dataset =pd.read_csv(\"test_AV3.csv\")"
   ]
  },
  {
   "cell_type": "code",
   "execution_count": 39,
   "metadata": {},
   "outputs": [
    {
     "data": {
      "text/html": [
       "<div>\n",
       "<style scoped>\n",
       "    .dataframe tbody tr th:only-of-type {\n",
       "        vertical-align: middle;\n",
       "    }\n",
       "\n",
       "    .dataframe tbody tr th {\n",
       "        vertical-align: top;\n",
       "    }\n",
       "\n",
       "    .dataframe thead th {\n",
       "        text-align: right;\n",
       "    }\n",
       "</style>\n",
       "<table border=\"1\" class=\"dataframe\">\n",
       "  <thead>\n",
       "    <tr style=\"text-align: right;\">\n",
       "      <th></th>\n",
       "      <th>Loan_ID</th>\n",
       "      <th>Gender</th>\n",
       "      <th>Married</th>\n",
       "      <th>Dependents</th>\n",
       "      <th>Education</th>\n",
       "      <th>Self_Employed</th>\n",
       "      <th>ApplicantIncome</th>\n",
       "      <th>CoapplicantIncome</th>\n",
       "      <th>LoanAmount</th>\n",
       "      <th>Loan_Amount_Term</th>\n",
       "      <th>Credit_History</th>\n",
       "      <th>Property_Area</th>\n",
       "      <th>Loan_Status</th>\n",
       "    </tr>\n",
       "  </thead>\n",
       "  <tbody>\n",
       "    <tr>\n",
       "      <th>0</th>\n",
       "      <td>LP001015</td>\n",
       "      <td>Male</td>\n",
       "      <td>Yes</td>\n",
       "      <td>0</td>\n",
       "      <td>Graduate</td>\n",
       "      <td>No</td>\n",
       "      <td>5720</td>\n",
       "      <td>0</td>\n",
       "      <td>110.0</td>\n",
       "      <td>360.0</td>\n",
       "      <td>1.0</td>\n",
       "      <td>Urban</td>\n",
       "      <td>Y</td>\n",
       "    </tr>\n",
       "    <tr>\n",
       "      <th>1</th>\n",
       "      <td>LP001022</td>\n",
       "      <td>Male</td>\n",
       "      <td>Yes</td>\n",
       "      <td>1</td>\n",
       "      <td>Graduate</td>\n",
       "      <td>No</td>\n",
       "      <td>3076</td>\n",
       "      <td>1500</td>\n",
       "      <td>126.0</td>\n",
       "      <td>360.0</td>\n",
       "      <td>1.0</td>\n",
       "      <td>Urban</td>\n",
       "      <td>Y</td>\n",
       "    </tr>\n",
       "    <tr>\n",
       "      <th>2</th>\n",
       "      <td>LP001031</td>\n",
       "      <td>Male</td>\n",
       "      <td>Yes</td>\n",
       "      <td>2</td>\n",
       "      <td>Graduate</td>\n",
       "      <td>No</td>\n",
       "      <td>5000</td>\n",
       "      <td>1800</td>\n",
       "      <td>208.0</td>\n",
       "      <td>360.0</td>\n",
       "      <td>1.0</td>\n",
       "      <td>Urban</td>\n",
       "      <td>Y</td>\n",
       "    </tr>\n",
       "    <tr>\n",
       "      <th>3</th>\n",
       "      <td>LP001035</td>\n",
       "      <td>Male</td>\n",
       "      <td>Yes</td>\n",
       "      <td>2</td>\n",
       "      <td>Graduate</td>\n",
       "      <td>No</td>\n",
       "      <td>2340</td>\n",
       "      <td>2546</td>\n",
       "      <td>100.0</td>\n",
       "      <td>360.0</td>\n",
       "      <td>NaN</td>\n",
       "      <td>Urban</td>\n",
       "      <td>Y</td>\n",
       "    </tr>\n",
       "    <tr>\n",
       "      <th>4</th>\n",
       "      <td>LP001051</td>\n",
       "      <td>Male</td>\n",
       "      <td>No</td>\n",
       "      <td>0</td>\n",
       "      <td>Not Graduate</td>\n",
       "      <td>No</td>\n",
       "      <td>3276</td>\n",
       "      <td>0</td>\n",
       "      <td>78.0</td>\n",
       "      <td>360.0</td>\n",
       "      <td>1.0</td>\n",
       "      <td>Urban</td>\n",
       "      <td>Y</td>\n",
       "    </tr>\n",
       "  </tbody>\n",
       "</table>\n",
       "</div>"
      ],
      "text/plain": [
       "    Loan_ID Gender Married Dependents     Education Self_Employed  \\\n",
       "0  LP001015   Male     Yes          0      Graduate            No   \n",
       "1  LP001022   Male     Yes          1      Graduate            No   \n",
       "2  LP001031   Male     Yes          2      Graduate            No   \n",
       "3  LP001035   Male     Yes          2      Graduate            No   \n",
       "4  LP001051   Male      No          0  Not Graduate            No   \n",
       "\n",
       "   ApplicantIncome  CoapplicantIncome  LoanAmount  Loan_Amount_Term  \\\n",
       "0             5720                  0       110.0             360.0   \n",
       "1             3076               1500       126.0             360.0   \n",
       "2             5000               1800       208.0             360.0   \n",
       "3             2340               2546       100.0             360.0   \n",
       "4             3276                  0        78.0             360.0   \n",
       "\n",
       "   Credit_History Property_Area Loan_Status  \n",
       "0             1.0         Urban           Y  \n",
       "1             1.0         Urban           Y  \n",
       "2             1.0         Urban           Y  \n",
       "3             NaN         Urban           Y  \n",
       "4             1.0         Urban           Y  "
      ]
     },
     "execution_count": 39,
     "metadata": {},
     "output_type": "execute_result"
    }
   ],
   "source": [
    "test_dataset.head(5)"
   ]
  },
  {
   "cell_type": "code",
   "execution_count": 40,
   "metadata": {},
   "outputs": [
    {
     "name": "stdout",
     "output_type": "stream",
     "text": [
      "<class 'pandas.core.frame.DataFrame'>\n",
      "RangeIndex: 367 entries, 0 to 366\n",
      "Data columns (total 13 columns):\n",
      " #   Column             Non-Null Count  Dtype  \n",
      "---  ------             --------------  -----  \n",
      " 0   Loan_ID            367 non-null    object \n",
      " 1   Gender             356 non-null    object \n",
      " 2   Married            367 non-null    object \n",
      " 3   Dependents         357 non-null    object \n",
      " 4   Education          367 non-null    object \n",
      " 5   Self_Employed      344 non-null    object \n",
      " 6   ApplicantIncome    367 non-null    int64  \n",
      " 7   CoapplicantIncome  367 non-null    int64  \n",
      " 8   LoanAmount         362 non-null    float64\n",
      " 9   Loan_Amount_Term   361 non-null    float64\n",
      " 10  Credit_History     338 non-null    float64\n",
      " 11  Property_Area      367 non-null    object \n",
      " 12  Loan_Status        367 non-null    object \n",
      "dtypes: float64(3), int64(2), object(8)\n",
      "memory usage: 37.4+ KB\n"
     ]
    }
   ],
   "source": [
    "test_dataset.info()"
   ]
  },
  {
   "cell_type": "code",
   "execution_count": 41,
   "metadata": {},
   "outputs": [
    {
     "data": {
      "text/plain": [
       "(367, 13)"
      ]
     },
     "execution_count": 41,
     "metadata": {},
     "output_type": "execute_result"
    }
   ],
   "source": [
    "test_dataset.shape"
   ]
  },
  {
   "cell_type": "code",
   "execution_count": 42,
   "metadata": {},
   "outputs": [],
   "source": [
    "def preprocessing_test(df):\n",
    "    \n",
    "    df[\"Gender\"].fillna(method=\"ffill\", inplace = True)\n",
    "    df[\"Married\"].fillna( method ='ffill', inplace = True)\n",
    "    df[\"Dependents\"].fillna( method ='ffill', inplace = True)\n",
    "    df[\"Self_Employed\"].fillna( method ='ffill', inplace = True)\n",
    "    df[\"LoanAmount\"].fillna(df[\"LoanAmount\"].mean() , inplace = True)\n",
    "    df[\"Loan_Amount_Term\"].fillna(df[\"Loan_Amount_Term\"].mean() , inplace = True)\n",
    "    df[\"Credit_History\"].fillna( df[\"Credit_History\"].mean(), inplace = True)\n",
    "    \n",
    "    le_gender = LabelEncoder()\n",
    "    le_married = LabelEncoder()\n",
    "    le_education = LabelEncoder()\n",
    "    le_self_employed = LabelEncoder()\n",
    "    le_property_area = LabelEncoder()\n",
    "    le_loan_status = LabelEncoder()\n",
    "    le_dependents = LabelEncoder()\n",
    "    \n",
    "    df['Gender_n'] = le_gender.fit_transform(df['Gender'])\n",
    "    df['Married_n'] = le_married.fit_transform(df['Married'])\n",
    "    df['Dependents_n'] = le_loan_status.fit_transform(df['Dependents'])\n",
    "    df['Education_n'] = le_education.fit_transform(df['Education'])\n",
    "    df['Self_Employed_n'] = le_self_employed.fit_transform(df['Self_Employed'])\n",
    "    df['Property_Area_n'] = le_property_area.fit_transform(df['Property_Area'])\n",
    "    df['Loan_Status_n'] = le_loan_status.fit_transform(df['Loan_Status'])\n",
    "    \n",
    "    df = df.drop(columns=[\"Loan_ID\",'Gender', 'Married', 'Education', 'Self_Employed', 'Property_Area', 'Loan_Status','Dependents'])\n",
    "    X = df.drop(columns=[\"Loan_Status_n\"])\n",
    "    y = df[\"Loan_Status_n\"]\n",
    "    \n",
    "    return X, y\n",
    "    "
   ]
  },
  {
   "cell_type": "code",
   "execution_count": 43,
   "metadata": {},
   "outputs": [],
   "source": [
    "X_testing, y_testing = preprocessing_test(test_dataset)"
   ]
  },
  {
   "cell_type": "code",
   "execution_count": 44,
   "metadata": {},
   "outputs": [],
   "source": [
    "y_hat_test_svm = pred(svm_model, X_testing)\n",
    "y_hat_test_lr = pred(lr_model, X_testing)\n",
    "y_hat_test_knn = pred(knn_model, X_testing)\n",
    "y_hat_test_dt = pred(decision_tree_model, X_testing)\n",
    "y_hat_test_rf = pred(random_forest_model, X_testing)"
   ]
  },
  {
   "cell_type": "code",
   "execution_count": 45,
   "metadata": {
    "scrolled": true
   },
   "outputs": [
    {
     "name": "stdout",
     "output_type": "stream",
     "text": [
      "Support Vector Machinet : \n",
      "Accuracy : \n",
      "0.9782016348773842\n",
      "\n",
      "###############################################\n",
      "\n",
      "Confusion Matrix\n",
      "[[ 56   2]\n",
      " [  6 303]]\n",
      "\n",
      "###############################################\n",
      "\n",
      "Classification Report\n",
      "              precision    recall  f1-score   support\n",
      "\n",
      "           0       0.90      0.97      0.93        58\n",
      "           1       0.99      0.98      0.99       309\n",
      "\n",
      "    accuracy                           0.98       367\n",
      "   macro avg       0.95      0.97      0.96       367\n",
      "weighted avg       0.98      0.98      0.98       367\n",
      "\n",
      "\n",
      "\n",
      "\n",
      "\n",
      "Logistic Regressiont : \n",
      "Accuracy : \n",
      "0.989100817438692\n",
      "\n",
      "###############################################\n",
      "\n",
      "Confusion Matrix\n",
      "[[ 58   0]\n",
      " [  4 305]]\n",
      "\n",
      "###############################################\n",
      "\n",
      "Classification Report\n",
      "              precision    recall  f1-score   support\n",
      "\n",
      "           0       0.94      1.00      0.97        58\n",
      "           1       1.00      0.99      0.99       309\n",
      "\n",
      "    accuracy                           0.99       367\n",
      "   macro avg       0.97      0.99      0.98       367\n",
      "weighted avg       0.99      0.99      0.99       367\n",
      "\n",
      "\n",
      "\n",
      "\n",
      "\n",
      "K Nearest Neighborst : \n",
      "Accuracy : \n",
      "0.8228882833787466\n",
      "\n",
      "###############################################\n",
      "\n",
      "Confusion Matrix\n",
      "[[  3  55]\n",
      " [ 10 299]]\n",
      "\n",
      "###############################################\n",
      "\n",
      "Classification Report\n",
      "              precision    recall  f1-score   support\n",
      "\n",
      "           0       0.23      0.05      0.08        58\n",
      "           1       0.84      0.97      0.90       309\n",
      "\n",
      "    accuracy                           0.82       367\n",
      "   macro avg       0.54      0.51      0.49       367\n",
      "weighted avg       0.75      0.82      0.77       367\n",
      "\n",
      "\n",
      "\n",
      "\n",
      "\n",
      "Decision Treet : \n",
      "Accuracy : \n",
      "0.8147138964577657\n",
      "\n",
      "###############################################\n",
      "\n",
      "Confusion Matrix\n",
      "[[ 54   4]\n",
      " [ 64 245]]\n",
      "\n",
      "###############################################\n",
      "\n",
      "Classification Report\n",
      "              precision    recall  f1-score   support\n",
      "\n",
      "           0       0.46      0.93      0.61        58\n",
      "           1       0.98      0.79      0.88       309\n",
      "\n",
      "    accuracy                           0.81       367\n",
      "   macro avg       0.72      0.86      0.75       367\n",
      "weighted avg       0.90      0.81      0.84       367\n",
      "\n",
      "\n",
      "\n",
      "\n",
      "\n",
      "Random Forest : \n",
      "\n",
      "Accuracy : \n",
      "0.9264305177111717\n",
      "\n",
      "###############################################\n",
      "\n",
      "Confusion Matrix\n",
      "[[ 58   0]\n",
      " [ 27 282]]\n",
      "\n",
      "###############################################\n",
      "\n",
      "Classification Report\n",
      "              precision    recall  f1-score   support\n",
      "\n",
      "           0       0.68      1.00      0.81        58\n",
      "           1       1.00      0.91      0.95       309\n",
      "\n",
      "    accuracy                           0.93       367\n",
      "   macro avg       0.84      0.96      0.88       367\n",
      "weighted avg       0.95      0.93      0.93       367\n",
      "\n",
      "\n",
      "\n",
      "\n",
      "\n"
     ]
    }
   ],
   "source": [
    "#SVM\n",
    "print(\"Support Vector Machinet : \")\n",
    "accuracy(y_testing, y_hat_test_svm)\n",
    "\n",
    "#Logistic Regression\n",
    "print(\"Logistic Regressiont : \")\n",
    "accuracy(y_testing, y_hat_test_lr)\n",
    "\n",
    "#K Nearest Neighbors\n",
    "print(\"K Nearest Neighborst : \")\n",
    "accuracy(y_testing, y_hat_test_knn)\n",
    "\n",
    "#Decision Tree\n",
    "print(\"Decision Treet : \")\n",
    "accuracy(y_testing, y_hat_test_dt)\n",
    "\n",
    "#Random Forest\n",
    "print(\"Random Forest : \")\n",
    "print()\n",
    "accuracy(y_testing, y_hat_test_rf)"
   ]
  },
  {
   "cell_type": "code",
   "execution_count": 47,
   "metadata": {},
   "outputs": [
    {
     "name": "stdout",
     "output_type": "stream",
     "text": [
      "Support Vector Machine : \n",
      "\n",
      "Mean Absolute Error: 0.021798365122615803\n",
      "Mean Squared Ewrror: 0.021798365122615803\n",
      "Root Mean Squared Error: 0.14764269410511244\n",
      "Logistic Regression : \n",
      "\n",
      "Mean Absolute Error: 0.010899182561307902\n",
      "Mean Squared Ewrror: 0.010899182561307902\n",
      "Root Mean Squared Error: 0.10439915019437611\n",
      "K Nearest Neighbors : \n",
      "\n",
      "Mean Absolute Error: 0.1771117166212534\n",
      "Mean Squared Ewrror: 0.1771117166212534\n",
      "Root Mean Squared Error: 0.42084642878519646\n",
      "Decision Tree : \n",
      "\n",
      "Mean Absolute Error: 0.18528610354223432\n",
      "Mean Squared Ewrror: 0.18528610354223432\n",
      "Root Mean Squared Error: 0.4304487234761352\n",
      "Random Forest : \n",
      "\n",
      "Mean Absolute Error: 0.19482288828337874\n",
      "Mean Squared Ewrror: 0.06713896457765668\n",
      "Root Mean Squared Error: 0.2591118765661981\n"
     ]
    }
   ],
   "source": [
    "#SVM\n",
    "print(\"Support Vector Machine : \")\n",
    "print()\n",
    "error(y_testing, y_hat_test_svm)\n",
    "\n",
    "#Logistic Regression\n",
    "print(\"Logistic Regression : \")\n",
    "print()\n",
    "error(y_testing, y_hat_test_lr)\n",
    "\n",
    "#K Nearest Neighbors\n",
    "print(\"K Nearest Neighbors : \")\n",
    "print()\n",
    "error(y_testing, y_hat_test_knn)\n",
    "\n",
    "#Decision Tree\n",
    "print(\"Decision Tree : \")\n",
    "print()\n",
    "error(y_testing, y_hat_test_dt)\n",
    "\n",
    "#Random Forest\n",
    "print(\"Random Forest : \")\n",
    "print()\n",
    "error(y_testing, y_hat_test_rf)\n"
   ]
  },
  {
   "cell_type": "code",
   "execution_count": null,
   "metadata": {},
   "outputs": [],
   "source": []
  }
 ],
 "metadata": {
  "kernelspec": {
   "display_name": "Python 3",
   "language": "python",
   "name": "python3"
  },
  "language_info": {
   "codemirror_mode": {
    "name": "ipython",
    "version": 3
   },
   "file_extension": ".py",
   "mimetype": "text/x-python",
   "name": "python",
   "nbconvert_exporter": "python",
   "pygments_lexer": "ipython3",
   "version": "3.7.6"
  }
 },
 "nbformat": 4,
 "nbformat_minor": 4
}
